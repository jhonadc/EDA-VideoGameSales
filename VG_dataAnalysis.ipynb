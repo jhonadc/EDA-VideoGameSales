{
 "cells": [
  {
   "cell_type": "code",
   "execution_count": null,
   "id": "ec0d2781",
   "metadata": {},
   "outputs": [],
   "source": [
    "import pandas as pd\n",
    "import matplotlib.pyplot as plt\n",
    "import numpy as np\n",
    "import glob\n",
    "import re\n",
    "import seaborn as sns\n",
    "import os"
   ]
  },
  {
   "cell_type": "code",
   "execution_count": null,
   "id": "8a558331",
   "metadata": {},
   "outputs": [],
   "source": [
    "df = pd.read_csv((\"data/vgsales.csv\")"
   ]
  },
  {
   "cell_type": "code",
   "execution_count": null,
   "id": "562c444e",
   "metadata": {},
   "outputs": [],
   "source": [
    "df.info()\n",
    "df.describe()\n",
    "df.head()"
   ]
  },
  {
   "cell_type": "code",
   "execution_count": null,
   "id": "1ed462e7",
   "metadata": {},
   "outputs": [],
   "source": [
    "## Filter DF by Nintendo games only\n",
    "nintendo = df[df[\"Publisher\"] == \"Nintendo\"]"
   ]
  },
  {
   "cell_type": "code",
   "execution_count": null,
   "id": "066a333f",
   "metadata": {},
   "outputs": [],
   "source": [
    "## Sum global nintendo sales\n",
    "nintendoGlobalSales = nintendo[\"Global_Sales\"].sum()"
   ]
  },
  {
   "cell_type": "code",
   "execution_count": null,
   "id": "a1d4bb4a",
   "metadata": {},
   "outputs": [],
   "source": [
    "## Total Nintendo Global Sales in all years\n",
    "print(nintendoGlobalSales)"
   ]
  },
  {
   "cell_type": "code",
   "execution_count": null,
   "id": "ed387ab7",
   "metadata": {},
   "outputs": [],
   "source": [
    "#Finding how manny years of data are included in the DataFrame\n",
    "\n",
    "# Converting 'Year' column to numeric if needed\n",
    "df['Year'] = pd.to_numeric(df['Year'])\n",
    "\n",
    "# Finding the oldest year\n",
    "oldest_year = df['Year'].min()\n",
    "\n",
    "# Finding the newest year\n",
    "newest_year = df['Year'].max()\n",
    "\n",
    "# Printing the oldest year\n",
    "print(\"The oldest year available is:\", oldest_year)\n",
    "\n",
    "# Printing the newest year\n",
    "print(\"The newest year available is:\", newest_year)"
   ]
  },
  {
   "cell_type": "code",
   "execution_count": null,
   "id": "b75a5a51",
   "metadata": {},
   "outputs": [],
   "source": [
    "##ANALISE OF THE TOTAL GLOBAL SALES AMONG ALL PUBLISHERS"
   ]
  },
  {
   "cell_type": "code",
   "execution_count": null,
   "id": "976570f7",
   "metadata": {},
   "outputs": [],
   "source": [
    "#Sales grouped by Publisher and keeping only the extra global_sales column, summing the sales.\n",
    "\n",
    "groupedPublisher = df.groupby(\"Publisher\").agg({\"Global_Sales\": \"sum\"})\n",
    "groupedPublisher.head(10)\n",
    "\n",
    "### Reset the index and organize columns names\n",
    "groupedPublisher.reset_index().sort_values('Global_Sales', ascending=False)\n",
    "groupedPublisher.drop('level_0', axis=1, inplace=True)\n",
    "groupedPublisher.sort_values(\"Global_Sales\", ascending=False, inplace=True)"
   ]
  },
  {
   "cell_type": "code",
   "execution_count": null,
   "id": "243204a5",
   "metadata": {},
   "outputs": [],
   "source": [
    "10 BEST PUBLISHERS PER GLOBAL SALES"
   ]
  },
  {
   "cell_type": "code",
   "execution_count": null,
   "id": "ba5d3423",
   "metadata": {},
   "outputs": [],
   "source": [
    "groupedPublisher.head(10).reset_index(inplace=True)"
   ]
  },
  {
   "cell_type": "code",
   "execution_count": null,
   "id": "bf49c69f",
   "metadata": {},
   "outputs": [],
   "source": [
    "### BAR PLOT\n",
    "groupedPublisher.head(10).plot(x='Publisher', y='Global_Sales', kind='bar', legend=False)\n",
    "plt.xlabel('Publisher')\n",
    "plt.ylabel('Global Sales')\n",
    "plt.title('Global Sales by Publisher in Millions of dollars')"
   ]
  },
  {
   "cell_type": "code",
   "execution_count": null,
   "id": "a604fb73",
   "metadata": {},
   "outputs": [],
   "source": [
    "df.columns"
   ]
  },
  {
   "cell_type": "code",
   "execution_count": null,
   "id": "2c99d513",
   "metadata": {},
   "outputs": [],
   "source": [
    "#New DF to check publisher sales per decade"
   ]
  },
  {
   "cell_type": "code",
   "execution_count": null,
   "id": "304a3beb",
   "metadata": {},
   "outputs": [],
   "source": [
    "groupedYearPublisherSales = df.groupby(['Publisher', 'Year']).agg({'Global_Sales': 'sum'})\n",
    "groupedYearPublisherSales.head()"
   ]
  },
  {
   "cell_type": "code",
   "execution_count": null,
   "id": "56acb5a8",
   "metadata": {},
   "outputs": [],
   "source": [
    "groupedYearPublisherSales.reset_index(inplace=True)\n",
    "groupedYearPublisherSales.head()"
   ]
  },
  {
   "cell_type": "code",
   "execution_count": null,
   "id": "f3f08fa1",
   "metadata": {},
   "outputs": [],
   "source": [
    "# Create a 'decade' column\n",
    "groupedYearPublisherSales['Decade'] = ((groupedYearPublisherSales['Year'] // 10) * 10).astype(int)\n",
    "groupedYearPublisherSales.head()\n"
   ]
  },
  {
   "cell_type": "code",
   "execution_count": null,
   "id": "aa62ce81",
   "metadata": {},
   "outputs": [],
   "source": [
    "groupedDecadePublisherSales = groupedYearPublisherSales.groupby(['Decade', 'Publisher']).agg({'Global_Sales': 'sum'})\n",
    "groupedDecadePublisherSales.reset_index(inplace=True)\n",
    "groupedDecadePublisherSales.head()"
   ]
  },
  {
   "cell_type": "code",
   "execution_count": null,
   "id": "65228c10",
   "metadata": {},
   "outputs": [],
   "source": [
    "# Sort by Global_Sales in descending order within each decade\n",
    "groupedDecadePublisherSalesFiltered = groupedDecadePublisherSales.sort_values(['Decade', 'Global_Sales'], ascending=[True, False])\n",
    "\n",
    "# Selects the top-selling publisher for each decade\n",
    "best_seller_per_decade = groupedDecadePublisherSalesFiltered.groupby('Decade').head(5)\n",
    "\n",
    "# Create a line plot with different colors for each publisher\n",
    "plt.figure(figsize=(8, 6))\n",
    "for publisher in best_seller_per_decade['Publisher'].unique():\n",
    "    data = best_seller_per_decade[best_seller_per_decade['Publisher'] == publisher]\n",
    "    plt.plot(data['Decade'], data['Global_Sales'], marker='o', label=publisher)\n",
    "    # Add publisher name label on top of the line\n",
    "    plt.text(data['Decade'].iloc[0], data['Global_Sales'].iloc[0], publisher.split()[0], ha='right', va='top', alpha=0.5)\n",
    "\n",
    "plt.xlabel('Decade')\n",
    "plt.ylabel('Total Global Sales')\n",
    "plt.title('Best Selling Publisher per Decade')\n",
    "\n",
    "# Place the legend outside of the plot area\n",
    "plt.legend(bbox_to_anchor=(1.05, 1), loc='upper left')\n",
    "\n",
    "# Extend x-axis limits to add space before the first decade\n",
    "plt.xlim(best_seller_per_decade['Decade'].min() - 5, best_seller_per_decade['Decade'].max())\n",
    "\n",
    "plt.show()"
   ]
  },
  {
   "cell_type": "code",
   "execution_count": 1,
   "id": "4c226d6d",
   "metadata": {},
   "outputs": [],
   "source": [
    "##BIGGEST MARKETS IN THE WORLD PER REGION\n",
    "groupedDecadePublisherSales.head(10).plot(x='Publisher', y='Global_Sales', kind='bar', legend=False)\n",
    "plt.xlabel('Decade')\n",
    "plt.ylabel('Global Sales')\n",
    "plt.title('Global Sales by Publisher in Millions of dollars')"
   ]
  },
  {
   "cell_type": "code",
   "execution_count": null,
   "id": "c8a0ece9",
   "metadata": {},
   "outputs": [],
   "source": [
    "#GETTING INITIAL DATAFRAME AdND KEEPING PUBLISHER SALES PER REGION\n",
    "#Calculate the total sales for each region \n",
    "df.head()\n",
    "total_sales_regional = df[['NA_Sales', 'EU_Sales', 'JP_Sales', 'Other_Sales']].sum()\n",
    "total_sales_regional.head()"
   ]
  },
  {
   "cell_type": "code",
   "execution_count": null,
   "id": "1d6d5381",
   "metadata": {},
   "outputs": [],
   "source": [
    "total_sales_regional.columns = ['Region', 'Total Sales']\n",
    "total_sales_regional.head()"
   ]
  },
  {
   "cell_type": "code",
   "execution_count": null,
   "id": "2c0e4d21",
   "metadata": {},
   "outputs": [],
   "source": [
    "total_sales_regional.plot( kind='bar', legend=False)\n",
    "plt.xlabel('Region')\n",
    "plt.ylabel('Global Sales')\n",
    "plt.title('Global Sales by Region in Millions of dollars')"
   ]
  },
  {
   "cell_type": "code",
   "execution_count": null,
   "id": "80fe470e",
   "metadata": {},
   "outputs": [],
   "source": [
    "#REGIONAL SALES PER DECADE"
   ]
  },
  {
   "cell_type": "code",
   "execution_count": null,
   "id": "bb71c5c8",
   "metadata": {},
   "outputs": [],
   "source": [
    "groupedPublisherRegionalSales = df.groupby(['Publisher', 'Year', 'NA_Sales', 'EU_Sales', 'JP_Sales', 'Other_Sales']).agg({'Global_Sales': 'sum'})\n",
    "groupedPublisherRegionalSales.head()"
   ]
  },
  {
   "cell_type": "code",
   "execution_count": null,
   "id": "6fdef5e3",
   "metadata": {},
   "outputs": [],
   "source": [
    "groupedPublisherRegionalSales.reset_index(inplace=True)\n",
    "groupedPublisherRegionalSales.head()"
   ]
  },
  {
   "cell_type": "code",
   "execution_count": null,
   "id": "f07888d2",
   "metadata": {},
   "outputs": [],
   "source": [
    "# Create a 'decade' column\n",
    "groupedPublisherRegionalSales['Decade'] = ((groupedYearPublisherSales['Year'] // 10) * 10).astype(int)\n",
    "groupedPublisherRegionalSales.info()\n",
    "groupedPublisherRegionalSales.head()"
   ]
  },
  {
   "cell_type": "code",
   "execution_count": null,
   "id": "8cf6a004",
   "metadata": {},
   "outputs": [],
   "source": [
    "groupedDecadeRegionalSales = groupedPublisherRegionalSales.groupby(['Publisher', 'Decade', 'NA_Sales', 'EU_Sales', 'JP_Sales', 'Other_Sales']).agg({'Global_Sales': 'sum'})\n",
    "groupedDecadeRegionalSales.head()"
   ]
  },
  {
   "cell_type": "code",
   "execution_count": null,
   "id": "17fcd185",
   "metadata": {},
   "outputs": [],
   "source": [
    "groupedDecadeRegionalSales.reset_index(inplace=True)\n",
    "groupedDecadeRegionalSales.head()"
   ]
  },
  {
   "cell_type": "code",
   "execution_count": null,
   "id": "b896d912",
   "metadata": {},
   "outputs": [],
   "source": [
    "# group the dataframe by decade and sum the global sales for each region\n",
    "df_by_decade = groupedDecadeRegionalSales.groupby('Decade')[['NA_Sales', 'EU_Sales', 'JP_Sales', 'Other_Sales']].sum()\n"
   ]
  },
  {
   "cell_type": "code",
   "execution_count": null,
   "id": "1f1ba514",
   "metadata": {},
   "outputs": [],
   "source": [
    "df_by_decade.head()"
   ]
  },
  {
   "cell_type": "code",
   "execution_count": null,
   "id": "e6c02c2d",
   "metadata": {},
   "outputs": [],
   "source": [
    "df_by_decade.reset_index(inplace=True)\n",
    "df_by_decade.head()"
   ]
  },
  {
   "cell_type": "code",
   "execution_count": null,
   "id": "a3a7a17d",
   "metadata": {},
   "outputs": [],
   "source": [
    "# drop the last row because it is not completed yet (decade 2020)\n",
    "df_by_decade.drop(index=df_by_decade.index[-1], inplace=True)\n",
    "\n",
    "# print the modified dataframe\n",
    "print(df_by_decade)"
   ]
  },
  {
   "cell_type": "code",
   "execution_count": null,
   "id": "fb4190bd",
   "metadata": {},
   "outputs": [],
   "source": [
    "# plot the sales per decade\n",
    "df_by_decade.plot(x=\"Decade\", y=[\"NA_Sales\",\"EU_Sales\", \"JP_Sales\", \"Other_Sales\"], kind='line', title='Regional Sales per Decade')\n",
    "\n",
    "# set the x-axis label\n",
    "plt.xlabel('Decade')\n",
    "\n",
    "# set the y-axis label\n",
    "plt.ylabel('Regional Sales')\n",
    "\n",
    "# display the plot\n",
    "plt.show()"
   ]
  },
  {
   "cell_type": "code",
   "execution_count": null,
   "id": "653fa76c",
   "metadata": {},
   "outputs": [],
   "source": [
    "#10 BEST SELLING GAMES\n",
    "df.head(10).plot(x=\"Name\", y=\"Global_Sales\", kind=\"bar\")\n",
    "plt.xlabel('Game')\n",
    "plt.ylabel('Sales')\n",
    "plt.title('Best 10 Global Sales Games')\n"
   ]
  },
  {
   "cell_type": "code",
   "execution_count": null,
   "id": "9be00ea2",
   "metadata": {},
   "outputs": [],
   "source": [
    "#BEST SOLD GAME PER PLATFORM\n",
    "df.head()\n",
    "bestgameperplatform = df.groupby(['Name', \"Platform\"]).agg({'Global_Sales': 'sum'})\n",
    "bestgameperplatform.reset_index(inplace=True)\n",
    "bestgameperplatform.head()"
   ]
  },
  {
   "cell_type": "code",
   "execution_count": null,
   "id": "bd569f65",
   "metadata": {},
   "outputs": [],
   "source": [
    "bestgameperplatform.info()\n",
    "#convert name and platform to category\n",
    "bestgameperplatform['Name'] = bestgameperplatform['Name'].astype('category')\n",
    "bestgameperplatform['Platform'] = bestgameperplatform['Platform'].astype('category')\n",
    "bestgameperplatform['Global_Sales'] = bestgameperplatform['Global_Sales'].astype(float)\n",
    "bestgameperplatform.info()"
   ]
  },
  {
   "cell_type": "code",
   "execution_count": null,
   "id": "cb315e99",
   "metadata": {},
   "outputs": [],
   "source": [
    "highest_sales_indexes = bestgameperplatform.groupby('Platform')['Global_Sales'].idxmax()\n",
    "highest_sales_names = bestgameperplatform.loc[highest_sales_indexes]['Name']\n",
    "\n",
    "ax = highest_sales_names.plot(kind='bar', figsize=(10, 5))\n",
    "ax.set_ylabel('Game Name')\n",
    "ax.set_xlabel('Platform')\n",
    "ax.set_title('Game with Highest Global Sales per Platform')"
   ]
  },
  {
   "cell_type": "code",
   "execution_count": null,
   "id": "5ceb49e3",
   "metadata": {},
   "outputs": [],
   "source": [
    "# Get the name of the game with the highest global sales per platform\n",
    "top_names = bestgameperplatform.loc[bestgameperplatform.groupby('Platform')['Global_Sales'].idxmax(), ['Platform', 'Name']]\n",
    "\n",
    "# Create a categorical plot of the data\n",
    "sns.catplot(x='Platform', y='Name', data=top_names, kind='bar')"
   ]
  },
  {
   "cell_type": "code",
   "execution_count": null,
   "id": "e540fdf1",
   "metadata": {},
   "outputs": [],
   "source": [
    "# Get the name of the game with the highest global sales per platform\n",
    "top_names = bestgameperplatform.loc[bestgameperplatform.groupby('Platform')['Global_Sales'].idxmax(), ['Platform', 'Name']]\n",
    "\n",
    "# Encode the Name column as a numeric variable\n",
    "top_names['Name_ID'] = bestgameperplatform.factorize(top_names['Name'])[0]\n",
    "\n",
    "# Plot the data using a scatter plot\n",
    "plt.scatter(top_names['Platform'], top_names['Name_ID'])\n",
    "\n",
    "# Set the x-axis tick labels to the platform names\n",
    "plt.xticks(range(len(top_names['Platform'])), top_names['Platform'])\n",
    "\n",
    "# Set the y-axis tick labels to the original name values\n",
    "plt.yticks(range(len(top_names['Name_ID'])), top_names['Name'])\n",
    "\n",
    "# Set the axis labels and title\n",
    "plt.xlabel('Platform')\n",
    "plt.ylabel('Name')\n",
    "plt.title('Name of the Game with the Highest Global Sales per Platform')"
   ]
  },
  {
   "cell_type": "code",
   "execution_count": null,
   "id": "aa24cc4c",
   "metadata": {},
   "outputs": [],
   "source": [
    "# encode categorical variables as integers\n",
    "bestgameperplatform['Name_Code'] = bestgameperplatform['Name'].cat.codes\n",
    "bestgameperplatform['Platform_Code'] = bestgameperplatform['Platform'].cat.codes\n",
    "\n",
    "# group by platform and get name with highest sales\n",
    "best_names = bestgameperplatform.loc[df.groupby('Platform_Code')['Global_Sales'].idxmax(), ['Name', 'Platform_Code']]\n",
    "\n",
    "# decode integer codes back to category names\n",
    "best_names['Platform'] = best_names['Platform_Code'].astype('category').cat.categories\n",
    "best_names['Name'] = best_names['Name'].astype('category').cat.categories\n",
    "\n",
    "# plot results\n",
    "plt.bar(best_names['Platform'], best_names['Global_Sales'])\n",
    "plt.title('Best Name per Platform')\n",
    "plt.xlabel('Platform')\n",
    "plt.ylabel('Global Sales (millions)')\n",
    "plt.show()"
   ]
  }
 ],
 "metadata": {
  "kernelspec": {
   "display_name": "Python 3 (ipykernel)",
   "language": "python",
   "name": "python3"
  },
  "language_info": {
   "codemirror_mode": {
    "name": "ipython",
    "version": 3
   },
   "file_extension": ".py",
   "mimetype": "text/x-python",
   "name": "python",
   "nbconvert_exporter": "python",
   "pygments_lexer": "ipython3",
   "version": "3.9.13"
  }
 },
 "nbformat": 4,
 "nbformat_minor": 5
}
